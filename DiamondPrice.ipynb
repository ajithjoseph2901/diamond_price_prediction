{
 "cells": [
  {
   "cell_type": "code",
   "execution_count": 49,
   "id": "c767086d",
   "metadata": {
    "ExecuteTime": {
     "end_time": "2023-07-19T05:37:24.155834Z",
     "start_time": "2023-07-19T05:37:24.153234Z"
    }
   },
   "outputs": [],
   "source": [
    "import numpy as np\n",
    "import pandas as pd\n",
    "import matplotlib.pyplot as plt\n",
    "import warnings\n",
    "warnings.filterwarnings(\"ignore\")\n",
    "import seaborn as sns\n",
    "sns.set(style='whitegrid')\n",
    "from sklearn.linear_model import LinearRegression\n",
    "from sklearn.model_selection import train_test_split\n",
    "from sklearn import metrics\n",
    "import statsmodels.api as sm\n",
    "import pickle\n",
    "import gzip\n"
   ]
  },
  {
   "cell_type": "code",
   "execution_count": 50,
   "id": "ca502b20",
   "metadata": {
    "ExecuteTime": {
     "end_time": "2023-07-19T05:37:26.387641Z",
     "start_time": "2023-07-19T05:37:26.327288Z"
    }
   },
   "outputs": [],
   "source": [
    "df = pd.read_csv(\"DiamondsPrices.csv\")\n"
   ]
  },
  {
   "cell_type": "code",
   "execution_count": 51,
   "id": "134abecb",
   "metadata": {
    "ExecuteTime": {
     "end_time": "2023-07-19T05:37:32.768494Z",
     "start_time": "2023-07-19T05:37:32.745185Z"
    }
   },
   "outputs": [
    {
     "data": {
      "text/plain": "   carat      cut color clarity  depth  table  price     x     y     z\n0   0.23    Ideal     E     SI2   61.5   55.0    326  3.95  3.98  2.43\n1   0.21  Premium     E     SI1   59.8   61.0    326  3.89  3.84  2.31\n2   0.23     Good     E     VS1   56.9   65.0    327  4.05  4.07  2.31\n3   0.29  Premium     I     VS2   62.4   58.0    334  4.20  4.23  2.63\n4   0.31     Good     J     SI2   63.3   58.0    335  4.34  4.35  2.75",
      "text/html": "<div>\n<style scoped>\n    .dataframe tbody tr th:only-of-type {\n        vertical-align: middle;\n    }\n\n    .dataframe tbody tr th {\n        vertical-align: top;\n    }\n\n    .dataframe thead th {\n        text-align: right;\n    }\n</style>\n<table border=\"1\" class=\"dataframe\">\n  <thead>\n    <tr style=\"text-align: right;\">\n      <th></th>\n      <th>carat</th>\n      <th>cut</th>\n      <th>color</th>\n      <th>clarity</th>\n      <th>depth</th>\n      <th>table</th>\n      <th>price</th>\n      <th>x</th>\n      <th>y</th>\n      <th>z</th>\n    </tr>\n  </thead>\n  <tbody>\n    <tr>\n      <th>0</th>\n      <td>0.23</td>\n      <td>Ideal</td>\n      <td>E</td>\n      <td>SI2</td>\n      <td>61.5</td>\n      <td>55.0</td>\n      <td>326</td>\n      <td>3.95</td>\n      <td>3.98</td>\n      <td>2.43</td>\n    </tr>\n    <tr>\n      <th>1</th>\n      <td>0.21</td>\n      <td>Premium</td>\n      <td>E</td>\n      <td>SI1</td>\n      <td>59.8</td>\n      <td>61.0</td>\n      <td>326</td>\n      <td>3.89</td>\n      <td>3.84</td>\n      <td>2.31</td>\n    </tr>\n    <tr>\n      <th>2</th>\n      <td>0.23</td>\n      <td>Good</td>\n      <td>E</td>\n      <td>VS1</td>\n      <td>56.9</td>\n      <td>65.0</td>\n      <td>327</td>\n      <td>4.05</td>\n      <td>4.07</td>\n      <td>2.31</td>\n    </tr>\n    <tr>\n      <th>3</th>\n      <td>0.29</td>\n      <td>Premium</td>\n      <td>I</td>\n      <td>VS2</td>\n      <td>62.4</td>\n      <td>58.0</td>\n      <td>334</td>\n      <td>4.20</td>\n      <td>4.23</td>\n      <td>2.63</td>\n    </tr>\n    <tr>\n      <th>4</th>\n      <td>0.31</td>\n      <td>Good</td>\n      <td>J</td>\n      <td>SI2</td>\n      <td>63.3</td>\n      <td>58.0</td>\n      <td>335</td>\n      <td>4.34</td>\n      <td>4.35</td>\n      <td>2.75</td>\n    </tr>\n  </tbody>\n</table>\n</div>"
     },
     "execution_count": 51,
     "metadata": {},
     "output_type": "execute_result"
    }
   ],
   "source": [
    "df.head()"
   ]
  },
  {
   "cell_type": "code",
   "execution_count": 52,
   "id": "ec3fbdef",
   "metadata": {
    "ExecuteTime": {
     "end_time": "2023-07-19T05:37:33.314199Z",
     "start_time": "2023-07-19T05:37:33.291937Z"
    }
   },
   "outputs": [
    {
     "name": "stdout",
     "output_type": "stream",
     "text": [
      "<class 'pandas.core.frame.DataFrame'>\n",
      "RangeIndex: 53940 entries, 0 to 53939\n",
      "Data columns (total 10 columns):\n",
      " #   Column   Non-Null Count  Dtype  \n",
      "---  ------   --------------  -----  \n",
      " 0   carat    53940 non-null  float64\n",
      " 1   cut      53940 non-null  object \n",
      " 2   color    53940 non-null  object \n",
      " 3   clarity  53940 non-null  object \n",
      " 4   depth    53940 non-null  float64\n",
      " 5   table    53940 non-null  float64\n",
      " 6   price    53940 non-null  int64  \n",
      " 7   x        53940 non-null  float64\n",
      " 8   y        53940 non-null  float64\n",
      " 9   z        53940 non-null  float64\n",
      "dtypes: float64(6), int64(1), object(3)\n",
      "memory usage: 4.1+ MB\n"
     ]
    }
   ],
   "source": [
    "df.info()"
   ]
  },
  {
   "cell_type": "code",
   "execution_count": 53,
   "id": "ba9a7abd",
   "metadata": {
    "ExecuteTime": {
     "end_time": "2023-07-19T05:37:33.841655Z",
     "start_time": "2023-07-19T05:37:33.793849Z"
    }
   },
   "outputs": [
    {
     "data": {
      "text/plain": "              carat         depth         table         price             x   \ncount  53940.000000  53940.000000  53940.000000  53940.000000  53940.000000  \\\nmean       0.797940     61.749405     57.457184   3932.799722      5.731157   \nstd        0.474011      1.432621      2.234491   3989.439738      1.121761   \nmin        0.200000     43.000000     43.000000    326.000000      0.000000   \n25%        0.400000     61.000000     56.000000    950.000000      4.710000   \n50%        0.700000     61.800000     57.000000   2401.000000      5.700000   \n75%        1.040000     62.500000     59.000000   5324.250000      6.540000   \nmax        5.010000     79.000000     95.000000  18823.000000     10.740000   \n\n                  y             z  \ncount  53940.000000  53940.000000  \nmean       5.734526      3.538734  \nstd        1.142135      0.705699  \nmin        0.000000      0.000000  \n25%        4.720000      2.910000  \n50%        5.710000      3.530000  \n75%        6.540000      4.040000  \nmax       58.900000     31.800000  ",
      "text/html": "<div>\n<style scoped>\n    .dataframe tbody tr th:only-of-type {\n        vertical-align: middle;\n    }\n\n    .dataframe tbody tr th {\n        vertical-align: top;\n    }\n\n    .dataframe thead th {\n        text-align: right;\n    }\n</style>\n<table border=\"1\" class=\"dataframe\">\n  <thead>\n    <tr style=\"text-align: right;\">\n      <th></th>\n      <th>carat</th>\n      <th>depth</th>\n      <th>table</th>\n      <th>price</th>\n      <th>x</th>\n      <th>y</th>\n      <th>z</th>\n    </tr>\n  </thead>\n  <tbody>\n    <tr>\n      <th>count</th>\n      <td>53940.000000</td>\n      <td>53940.000000</td>\n      <td>53940.000000</td>\n      <td>53940.000000</td>\n      <td>53940.000000</td>\n      <td>53940.000000</td>\n      <td>53940.000000</td>\n    </tr>\n    <tr>\n      <th>mean</th>\n      <td>0.797940</td>\n      <td>61.749405</td>\n      <td>57.457184</td>\n      <td>3932.799722</td>\n      <td>5.731157</td>\n      <td>5.734526</td>\n      <td>3.538734</td>\n    </tr>\n    <tr>\n      <th>std</th>\n      <td>0.474011</td>\n      <td>1.432621</td>\n      <td>2.234491</td>\n      <td>3989.439738</td>\n      <td>1.121761</td>\n      <td>1.142135</td>\n      <td>0.705699</td>\n    </tr>\n    <tr>\n      <th>min</th>\n      <td>0.200000</td>\n      <td>43.000000</td>\n      <td>43.000000</td>\n      <td>326.000000</td>\n      <td>0.000000</td>\n      <td>0.000000</td>\n      <td>0.000000</td>\n    </tr>\n    <tr>\n      <th>25%</th>\n      <td>0.400000</td>\n      <td>61.000000</td>\n      <td>56.000000</td>\n      <td>950.000000</td>\n      <td>4.710000</td>\n      <td>4.720000</td>\n      <td>2.910000</td>\n    </tr>\n    <tr>\n      <th>50%</th>\n      <td>0.700000</td>\n      <td>61.800000</td>\n      <td>57.000000</td>\n      <td>2401.000000</td>\n      <td>5.700000</td>\n      <td>5.710000</td>\n      <td>3.530000</td>\n    </tr>\n    <tr>\n      <th>75%</th>\n      <td>1.040000</td>\n      <td>62.500000</td>\n      <td>59.000000</td>\n      <td>5324.250000</td>\n      <td>6.540000</td>\n      <td>6.540000</td>\n      <td>4.040000</td>\n    </tr>\n    <tr>\n      <th>max</th>\n      <td>5.010000</td>\n      <td>79.000000</td>\n      <td>95.000000</td>\n      <td>18823.000000</td>\n      <td>10.740000</td>\n      <td>58.900000</td>\n      <td>31.800000</td>\n    </tr>\n  </tbody>\n</table>\n</div>"
     },
     "execution_count": 53,
     "metadata": {},
     "output_type": "execute_result"
    }
   ],
   "source": [
    "df.describe()\n"
   ]
  },
  {
   "cell_type": "code",
   "execution_count": 54,
   "id": "de21b232",
   "metadata": {
    "ExecuteTime": {
     "end_time": "2023-07-19T05:37:34.336568Z",
     "start_time": "2023-07-19T05:37:34.263435Z"
    }
   },
   "outputs": [],
   "source": [
    "df = df.drop_duplicates()"
   ]
  },
  {
   "cell_type": "code",
   "execution_count": 55,
   "id": "5f062475",
   "metadata": {
    "ExecuteTime": {
     "end_time": "2023-07-19T05:37:34.935669Z",
     "start_time": "2023-07-19T05:37:34.902849Z"
    }
   },
   "outputs": [
    {
     "name": "stdout",
     "output_type": "stream",
     "text": [
      "<class 'pandas.core.frame.DataFrame'>\n",
      "Index: 53794 entries, 0 to 53939\n",
      "Data columns (total 10 columns):\n",
      " #   Column   Non-Null Count  Dtype  \n",
      "---  ------   --------------  -----  \n",
      " 0   carat    53794 non-null  float64\n",
      " 1   cut      53794 non-null  object \n",
      " 2   color    53794 non-null  object \n",
      " 3   clarity  53794 non-null  object \n",
      " 4   depth    53794 non-null  float64\n",
      " 5   table    53794 non-null  float64\n",
      " 6   price    53794 non-null  int64  \n",
      " 7   x        53794 non-null  float64\n",
      " 8   y        53794 non-null  float64\n",
      " 9   z        53794 non-null  float64\n",
      "dtypes: float64(6), int64(1), object(3)\n",
      "memory usage: 4.5+ MB\n"
     ]
    }
   ],
   "source": [
    "df.info()"
   ]
  },
  {
   "cell_type": "code",
   "execution_count": 56,
   "id": "da40b2fa",
   "metadata": {
    "ExecuteTime": {
     "end_time": "2023-07-19T05:37:35.401165Z",
     "start_time": "2023-07-19T05:37:35.393252Z"
    }
   },
   "outputs": [],
   "source": [
    "# data=df"
   ]
  },
  {
   "cell_type": "code",
   "execution_count": 57,
   "id": "dbdac906",
   "metadata": {
    "ExecuteTime": {
     "end_time": "2023-07-19T05:37:35.867487Z",
     "start_time": "2023-07-19T05:37:35.859227Z"
    }
   },
   "outputs": [],
   "source": [
    "# import pandas as pd\n",
    "# import numpy as np\n",
    "\n",
    "# def remove_outliers_z_score(df, price, threshold=3):\n",
    " \n",
    "\n",
    "#     # Calculate the Z-scores for the specified column\n",
    "#     z_scores = (df[price] - df[price].mean()) / df[price].std()\n",
    "\n",
    "#     # Find the indices of rows where the Z-score of the column is greater than the threshold\n",
    "#     outlier_indices = np.where(np.abs(z_scores) > threshold)\n",
    "\n",
    "#     # Filter out the rows containing outliers in the specified column\n",
    "#     filtered_df = df.loc[~df.index.isin(outlier_indices)]\n",
    "\n",
    "#     return filtered_df\n"
   ]
  },
  {
   "cell_type": "code",
   "execution_count": 58,
   "id": "db3bf6a7",
   "metadata": {
    "ExecuteTime": {
     "end_time": "2023-07-19T05:37:36.095026Z",
     "start_time": "2023-07-19T05:37:36.088997Z"
    }
   },
   "outputs": [],
   "source": [
    "# column_name = 'price'\n",
    "# threshold = 3  # You can adjust this threshold value as needed\n",
    "\n",
    "# filtered_df = remove_outliers_z_score(df, column_name, threshold)\n",
    "# print(filtered_df)"
   ]
  },
  {
   "cell_type": "code",
   "execution_count": 59,
   "id": "6e2c574f",
   "metadata": {
    "ExecuteTime": {
     "end_time": "2023-07-19T05:37:36.308312Z",
     "start_time": "2023-07-19T05:37:36.294443Z"
    }
   },
   "outputs": [],
   "source": [
    "# #Removing outliers\n",
    "\n",
    "# #removing outliers with IQR \n",
    "\n",
    "# q1 = np.quantile(df.price, 0.25) #1st quantile\n",
    "# q2 = np.quantile(df.price, 0.5) #2nd quantile\n",
    "# q3 = np.quantile(df.price, 0.75) #3rd quantile\n",
    "# IQR = q3 - q1 #Inter - Quartile Range"
   ]
  },
  {
   "cell_type": "code",
   "execution_count": 60,
   "id": "c5cf71fa",
   "metadata": {
    "ExecuteTime": {
     "end_time": "2023-07-19T05:37:36.515539Z",
     "start_time": "2023-07-19T05:37:36.505375Z"
    }
   },
   "outputs": [],
   "source": [
    "# #setting the fences on our dataset to identify the outliers\n",
    "\n",
    "# lower = q1 - (1.5*IQR) #lower whisker\n",
    "# upper = q3 + (1.5*IQR) #upper whisker"
   ]
  },
  {
   "cell_type": "code",
   "execution_count": 61,
   "id": "81ba2ca1",
   "metadata": {
    "ExecuteTime": {
     "end_time": "2023-07-19T05:37:36.872599Z",
     "start_time": "2023-07-19T05:37:36.850093Z"
    }
   },
   "outputs": [],
   "source": [
    "# #removal of lower and upper outliers in our data\n",
    "\n",
    "# df = df[~((df.price > upper) | (df.price < lower))]"
   ]
  },
  {
   "cell_type": "code",
   "execution_count": 62,
   "id": "2ae701b2",
   "metadata": {
    "ExecuteTime": {
     "end_time": "2023-07-19T05:37:37.088644Z",
     "start_time": "2023-07-19T05:37:37.081078Z"
    }
   },
   "outputs": [
    {
     "data": {
      "text/plain": "(53794, 10)"
     },
     "execution_count": 62,
     "metadata": {},
     "output_type": "execute_result"
    }
   ],
   "source": [
    "df.shape"
   ]
  },
  {
   "cell_type": "code",
   "execution_count": 63,
   "id": "e1edbd2d",
   "metadata": {
    "ExecuteTime": {
     "end_time": "2023-07-19T05:37:37.311750Z",
     "start_time": "2023-07-19T05:37:37.293346Z"
    }
   },
   "outputs": [
    {
     "data": {
      "text/plain": "carat      0\ncut        0\ncolor      0\nclarity    0\ndepth      0\ntable      0\nprice      0\nx          0\ny          0\nz          0\ndtype: int64"
     },
     "execution_count": 63,
     "metadata": {},
     "output_type": "execute_result"
    }
   ],
   "source": [
    "df.isna().sum()"
   ]
  },
  {
   "cell_type": "code",
   "execution_count": 64,
   "id": "d6b6f8c3",
   "metadata": {
    "ExecuteTime": {
     "end_time": "2023-07-19T05:37:37.622060Z",
     "start_time": "2023-07-19T05:37:37.516792Z"
    }
   },
   "outputs": [
    {
     "data": {
      "text/plain": "   carat  cut  color  clarity  depth  table  price     x     y     z\n0   0.23    5      6        2   61.5   55.0    326  3.95  3.98  2.43\n1   0.21    4      6        3   59.8   61.0    326  3.89  3.84  2.31\n2   0.23    2      6        5   56.9   65.0    327  4.05  4.07  2.31\n3   0.29    4      2        4   62.4   58.0    334  4.20  4.23  2.63\n4   0.31    2      1        2   63.3   58.0    335  4.34  4.35  2.75",
      "text/html": "<div>\n<style scoped>\n    .dataframe tbody tr th:only-of-type {\n        vertical-align: middle;\n    }\n\n    .dataframe tbody tr th {\n        vertical-align: top;\n    }\n\n    .dataframe thead th {\n        text-align: right;\n    }\n</style>\n<table border=\"1\" class=\"dataframe\">\n  <thead>\n    <tr style=\"text-align: right;\">\n      <th></th>\n      <th>carat</th>\n      <th>cut</th>\n      <th>color</th>\n      <th>clarity</th>\n      <th>depth</th>\n      <th>table</th>\n      <th>price</th>\n      <th>x</th>\n      <th>y</th>\n      <th>z</th>\n    </tr>\n  </thead>\n  <tbody>\n    <tr>\n      <th>0</th>\n      <td>0.23</td>\n      <td>5</td>\n      <td>6</td>\n      <td>2</td>\n      <td>61.5</td>\n      <td>55.0</td>\n      <td>326</td>\n      <td>3.95</td>\n      <td>3.98</td>\n      <td>2.43</td>\n    </tr>\n    <tr>\n      <th>1</th>\n      <td>0.21</td>\n      <td>4</td>\n      <td>6</td>\n      <td>3</td>\n      <td>59.8</td>\n      <td>61.0</td>\n      <td>326</td>\n      <td>3.89</td>\n      <td>3.84</td>\n      <td>2.31</td>\n    </tr>\n    <tr>\n      <th>2</th>\n      <td>0.23</td>\n      <td>2</td>\n      <td>6</td>\n      <td>5</td>\n      <td>56.9</td>\n      <td>65.0</td>\n      <td>327</td>\n      <td>4.05</td>\n      <td>4.07</td>\n      <td>2.31</td>\n    </tr>\n    <tr>\n      <th>3</th>\n      <td>0.29</td>\n      <td>4</td>\n      <td>2</td>\n      <td>4</td>\n      <td>62.4</td>\n      <td>58.0</td>\n      <td>334</td>\n      <td>4.20</td>\n      <td>4.23</td>\n      <td>2.63</td>\n    </tr>\n    <tr>\n      <th>4</th>\n      <td>0.31</td>\n      <td>2</td>\n      <td>1</td>\n      <td>2</td>\n      <td>63.3</td>\n      <td>58.0</td>\n      <td>335</td>\n      <td>4.34</td>\n      <td>4.35</td>\n      <td>2.75</td>\n    </tr>\n  </tbody>\n</table>\n</div>"
     },
     "execution_count": 64,
     "metadata": {},
     "output_type": "execute_result"
    }
   ],
   "source": [
    "#df=pd.get_dummies(df,prefix=['color','cut','clarity'],drop_first=True)\n",
    "#Replacing the categorical value colour, cut and clarity without using built in function for categorical data\n",
    "df=df.replace({'color' : { 'D' : 7, 'E' : 6, 'F' : 5, 'G' : 4, 'H': 3, 'I':2, 'J':1}})\n",
    "df=df.replace({'cut': {'Ideal':5, 'Premium': 4, 'Very Good':3, 'Good':2, 'Fair':1}})\n",
    "df=df.replace({'clarity': {\"IF\": 8, 'VVS1' :7, 'VVS2': 6, 'VS1': 5, 'VS2': 4, 'SI1':3, 'SI2': 2, 'I1':1}})\n",
    "#Visualize the data frame\n",
    "df.head()\n"
   ]
  },
  {
   "cell_type": "code",
   "execution_count": 65,
   "id": "69ba0fc4",
   "metadata": {
    "ExecuteTime": {
     "end_time": "2023-07-19T05:37:37.877859Z",
     "start_time": "2023-07-19T05:37:37.722824Z"
    }
   },
   "outputs": [
    {
     "name": "stdout",
     "output_type": "stream",
     "text": [
      "<class 'pandas.core.frame.DataFrame'>\n",
      "Index: 53794 entries, 0 to 53939\n",
      "Data columns (total 10 columns):\n",
      " #   Column   Non-Null Count  Dtype  \n",
      "---  ------   --------------  -----  \n",
      " 0   carat    53794 non-null  float64\n",
      " 1   cut      53794 non-null  int64  \n",
      " 2   color    53794 non-null  int64  \n",
      " 3   clarity  53794 non-null  int64  \n",
      " 4   depth    53794 non-null  float64\n",
      " 5   table    53794 non-null  float64\n",
      " 6   price    53794 non-null  int64  \n",
      " 7   x        53794 non-null  float64\n",
      " 8   y        53794 non-null  float64\n",
      " 9   z        53794 non-null  float64\n",
      "dtypes: float64(6), int64(4)\n",
      "memory usage: 4.5 MB\n"
     ]
    }
   ],
   "source": [
    "df.info()"
   ]
  },
  {
   "cell_type": "code",
   "execution_count": 66,
   "id": "33a6d24c",
   "metadata": {
    "ExecuteTime": {
     "end_time": "2023-07-19T05:37:38.558939Z",
     "start_time": "2023-07-19T05:37:37.940364Z"
    }
   },
   "outputs": [
    {
     "data": {
      "text/plain": "                 vif\nconst    6746.231830\ncarat      39.957040\ncut         1.496206\ncolor       1.324426\nclarity     1.687989\ndepth       1.728444\ntable       1.587318\nprice      10.764877\nx          57.659557\ny          20.382617\nz          23.436486",
      "text/html": "<div>\n<style scoped>\n    .dataframe tbody tr th:only-of-type {\n        vertical-align: middle;\n    }\n\n    .dataframe tbody tr th {\n        vertical-align: top;\n    }\n\n    .dataframe thead th {\n        text-align: right;\n    }\n</style>\n<table border=\"1\" class=\"dataframe\">\n  <thead>\n    <tr style=\"text-align: right;\">\n      <th></th>\n      <th>vif</th>\n    </tr>\n  </thead>\n  <tbody>\n    <tr>\n      <th>const</th>\n      <td>6746.231830</td>\n    </tr>\n    <tr>\n      <th>carat</th>\n      <td>39.957040</td>\n    </tr>\n    <tr>\n      <th>cut</th>\n      <td>1.496206</td>\n    </tr>\n    <tr>\n      <th>color</th>\n      <td>1.324426</td>\n    </tr>\n    <tr>\n      <th>clarity</th>\n      <td>1.687989</td>\n    </tr>\n    <tr>\n      <th>depth</th>\n      <td>1.728444</td>\n    </tr>\n    <tr>\n      <th>table</th>\n      <td>1.587318</td>\n    </tr>\n    <tr>\n      <th>price</th>\n      <td>10.764877</td>\n    </tr>\n    <tr>\n      <th>x</th>\n      <td>57.659557</td>\n    </tr>\n    <tr>\n      <th>y</th>\n      <td>20.382617</td>\n    </tr>\n    <tr>\n      <th>z</th>\n      <td>23.436486</td>\n    </tr>\n  </tbody>\n</table>\n</div>"
     },
     "execution_count": 66,
     "metadata": {},
     "output_type": "execute_result"
    }
   ],
   "source": [
    "numeric_df = df.select_dtypes(include=[np.number])\n",
    "numeric_df = sm.add_constant(numeric_df)\n",
    "\n",
    "from statsmodels.stats.outliers_influence import variance_inflation_factor as vif\n",
    "vif = [vif(numeric_df, i) for i in range(numeric_df.shape[1])]\n",
    "\n",
    "pd.DataFrame(vif, index=numeric_df.columns, columns=['vif'])"
   ]
  },
  {
   "cell_type": "code",
   "execution_count": 67,
   "id": "5139f35b",
   "metadata": {
    "ExecuteTime": {
     "end_time": "2023-07-19T05:37:38.834474Z",
     "start_time": "2023-07-19T05:37:38.772573Z"
    }
   },
   "outputs": [],
   "source": [
    "# #Reducing three variables x, y, z to a single variable\n",
    "# df['volume']= df['x']*df['y']*df[\"z\"] \n",
    "# #now we can drop x,y,z columns\n",
    "# df=df.drop(['x','y','z'], axis=1)\n",
    "# #Visualizing the data frame to see the change\n",
    "# df.head()"
   ]
  },
  {
   "cell_type": "code",
   "execution_count": 68,
   "id": "8428cfc1",
   "metadata": {
    "ExecuteTime": {
     "end_time": "2023-07-19T05:37:38.941937Z",
     "start_time": "2023-07-19T05:37:38.920538Z"
    }
   },
   "outputs": [],
   "source": [
    "#df=df[df['volume']>0]"
   ]
  },
  {
   "cell_type": "code",
   "execution_count": 69,
   "id": "ab564836",
   "metadata": {
    "ExecuteTime": {
     "end_time": "2023-07-19T05:37:39.195710Z",
     "start_time": "2023-07-19T05:37:39.174747Z"
    }
   },
   "outputs": [
    {
     "name": "stdout",
     "output_type": "stream",
     "text": [
      "<class 'pandas.core.frame.DataFrame'>\n",
      "Index: 53794 entries, 0 to 53939\n",
      "Data columns (total 10 columns):\n",
      " #   Column   Non-Null Count  Dtype  \n",
      "---  ------   --------------  -----  \n",
      " 0   carat    53794 non-null  float64\n",
      " 1   cut      53794 non-null  int64  \n",
      " 2   color    53794 non-null  int64  \n",
      " 3   clarity  53794 non-null  int64  \n",
      " 4   depth    53794 non-null  float64\n",
      " 5   table    53794 non-null  float64\n",
      " 6   price    53794 non-null  int64  \n",
      " 7   x        53794 non-null  float64\n",
      " 8   y        53794 non-null  float64\n",
      " 9   z        53794 non-null  float64\n",
      "dtypes: float64(6), int64(4)\n",
      "memory usage: 4.5 MB\n"
     ]
    }
   ],
   "source": [
    "df.info()"
   ]
  },
  {
   "cell_type": "code",
   "execution_count": 70,
   "id": "62ae620a",
   "metadata": {
    "ExecuteTime": {
     "end_time": "2023-07-19T05:37:39.910223Z",
     "start_time": "2023-07-19T05:37:39.408648Z"
    }
   },
   "outputs": [
    {
     "data": {
      "text/plain": "                 vif\nconst    6746.231830\ncarat      39.957040\ncut         1.496206\ncolor       1.324426\nclarity     1.687989\ndepth       1.728444\ntable       1.587318\nprice      10.764877\nx          57.659557\ny          20.382617\nz          23.436486",
      "text/html": "<div>\n<style scoped>\n    .dataframe tbody tr th:only-of-type {\n        vertical-align: middle;\n    }\n\n    .dataframe tbody tr th {\n        vertical-align: top;\n    }\n\n    .dataframe thead th {\n        text-align: right;\n    }\n</style>\n<table border=\"1\" class=\"dataframe\">\n  <thead>\n    <tr style=\"text-align: right;\">\n      <th></th>\n      <th>vif</th>\n    </tr>\n  </thead>\n  <tbody>\n    <tr>\n      <th>const</th>\n      <td>6746.231830</td>\n    </tr>\n    <tr>\n      <th>carat</th>\n      <td>39.957040</td>\n    </tr>\n    <tr>\n      <th>cut</th>\n      <td>1.496206</td>\n    </tr>\n    <tr>\n      <th>color</th>\n      <td>1.324426</td>\n    </tr>\n    <tr>\n      <th>clarity</th>\n      <td>1.687989</td>\n    </tr>\n    <tr>\n      <th>depth</th>\n      <td>1.728444</td>\n    </tr>\n    <tr>\n      <th>table</th>\n      <td>1.587318</td>\n    </tr>\n    <tr>\n      <th>price</th>\n      <td>10.764877</td>\n    </tr>\n    <tr>\n      <th>x</th>\n      <td>57.659557</td>\n    </tr>\n    <tr>\n      <th>y</th>\n      <td>20.382617</td>\n    </tr>\n    <tr>\n      <th>z</th>\n      <td>23.436486</td>\n    </tr>\n  </tbody>\n</table>\n</div>"
     },
     "execution_count": 70,
     "metadata": {},
     "output_type": "execute_result"
    }
   ],
   "source": [
    "numeric_df = df.select_dtypes(include=[np.number])\n",
    "numeric_df = sm.add_constant(numeric_df)\n",
    "\n",
    "from statsmodels.stats.outliers_influence import variance_inflation_factor as vif\n",
    "vif = [vif(numeric_df, i) for i in range(numeric_df.shape[1])]\n",
    "\n",
    "pd.DataFrame(vif, index=numeric_df.columns, columns=['vif'])"
   ]
  },
  {
   "cell_type": "code",
   "execution_count": 71,
   "id": "c0022299",
   "metadata": {
    "ExecuteTime": {
     "end_time": "2023-07-19T05:37:39.936524Z",
     "start_time": "2023-07-19T05:37:39.917303Z"
    }
   },
   "outputs": [],
   "source": [
    "y= df['price'] #dependent variable is price\n",
    "x= df.drop(['price'], axis=1)"
   ]
  },
  {
   "cell_type": "code",
   "execution_count": 72,
   "id": "b2bcf768",
   "metadata": {
    "ExecuteTime": {
     "end_time": "2023-07-19T05:37:40.239450Z",
     "start_time": "2023-07-19T05:37:40.174720Z"
    }
   },
   "outputs": [
    {
     "data": {
      "text/plain": "   carat  cut  color  clarity  depth  table     x     y     z\n0   0.23    5      6        2   61.5   55.0  3.95  3.98  2.43\n1   0.21    4      6        3   59.8   61.0  3.89  3.84  2.31\n2   0.23    2      6        5   56.9   65.0  4.05  4.07  2.31\n3   0.29    4      2        4   62.4   58.0  4.20  4.23  2.63\n4   0.31    2      1        2   63.3   58.0  4.34  4.35  2.75",
      "text/html": "<div>\n<style scoped>\n    .dataframe tbody tr th:only-of-type {\n        vertical-align: middle;\n    }\n\n    .dataframe tbody tr th {\n        vertical-align: top;\n    }\n\n    .dataframe thead th {\n        text-align: right;\n    }\n</style>\n<table border=\"1\" class=\"dataframe\">\n  <thead>\n    <tr style=\"text-align: right;\">\n      <th></th>\n      <th>carat</th>\n      <th>cut</th>\n      <th>color</th>\n      <th>clarity</th>\n      <th>depth</th>\n      <th>table</th>\n      <th>x</th>\n      <th>y</th>\n      <th>z</th>\n    </tr>\n  </thead>\n  <tbody>\n    <tr>\n      <th>0</th>\n      <td>0.23</td>\n      <td>5</td>\n      <td>6</td>\n      <td>2</td>\n      <td>61.5</td>\n      <td>55.0</td>\n      <td>3.95</td>\n      <td>3.98</td>\n      <td>2.43</td>\n    </tr>\n    <tr>\n      <th>1</th>\n      <td>0.21</td>\n      <td>4</td>\n      <td>6</td>\n      <td>3</td>\n      <td>59.8</td>\n      <td>61.0</td>\n      <td>3.89</td>\n      <td>3.84</td>\n      <td>2.31</td>\n    </tr>\n    <tr>\n      <th>2</th>\n      <td>0.23</td>\n      <td>2</td>\n      <td>6</td>\n      <td>5</td>\n      <td>56.9</td>\n      <td>65.0</td>\n      <td>4.05</td>\n      <td>4.07</td>\n      <td>2.31</td>\n    </tr>\n    <tr>\n      <th>3</th>\n      <td>0.29</td>\n      <td>4</td>\n      <td>2</td>\n      <td>4</td>\n      <td>62.4</td>\n      <td>58.0</td>\n      <td>4.20</td>\n      <td>4.23</td>\n      <td>2.63</td>\n    </tr>\n    <tr>\n      <th>4</th>\n      <td>0.31</td>\n      <td>2</td>\n      <td>1</td>\n      <td>2</td>\n      <td>63.3</td>\n      <td>58.0</td>\n      <td>4.34</td>\n      <td>4.35</td>\n      <td>2.75</td>\n    </tr>\n  </tbody>\n</table>\n</div>"
     },
     "execution_count": 72,
     "metadata": {},
     "output_type": "execute_result"
    }
   ],
   "source": [
    "x.head()"
   ]
  },
  {
   "cell_type": "code",
   "execution_count": 91,
   "id": "7937ff76",
   "metadata": {
    "ExecuteTime": {
     "end_time": "2023-07-19T05:53:40.196614Z",
     "start_time": "2023-07-19T05:53:30.923823Z"
    }
   },
   "outputs": [],
   "source": [
    "from sklearn.ensemble import RandomForestRegressor\n",
    "from sklearn.model_selection import train_test_split\n",
    "from sklearn.metrics import mean_squared_error\n",
    "\n",
    "# splitting the data\n",
    "# x_train, x_test, y_train, y_test = train_test_split(x,y, test_size= 0.2)\n",
    "x_train, x_test, y_train, y_test = train_test_split(x,y, test_size= 0.63, random_state=2)\n",
    "# Create a random forest regressor object\n",
    "# rf_regressor = RandomForestRegressor(n_estimators=200, random_state=42)\n",
    "rf_regressor2 = RandomForestRegressor(n_estimators=100, random_state=2)\n",
    "\n",
    "# Train the regressor on the training data\n",
    "# rf_regressor.fit(x_train, y_train)\n",
    "rf_regressor2.fit(x_train, y_train)\n",
    "\n",
    "# Make predictions on the test data\n",
    "# y_pred = rf_regressor.predict(x_test)\n",
    "y_pred2 = rf_regressor2.predict(x_test)"
   ]
  },
  {
   "cell_type": "code",
   "execution_count": 92,
   "id": "bc045ecb",
   "metadata": {
    "ExecuteTime": {
     "end_time": "2023-07-19T05:53:40.202492Z",
     "start_time": "2023-07-19T05:53:40.198846Z"
    }
   },
   "outputs": [],
   "source": [
    "from sklearn.metrics import mean_absolute_percentage_error\n",
    "# MAPE_RF = mean_absolute_percentage_error(y_test, y_pred)\n",
    "# print(\"Mean Absolute Percentage Error (MAPE):\", MAPE_RF)"
   ]
  },
  {
   "cell_type": "code",
   "execution_count": 93,
   "id": "1677dcdb",
   "metadata": {
    "ExecuteTime": {
     "end_time": "2023-07-19T05:53:40.711719Z",
     "start_time": "2023-07-19T05:53:40.202827Z"
    }
   },
   "outputs": [
    {
     "name": "stdout",
     "output_type": "stream",
     "text": [
      "Mean Absolute Percentage Error (MAPE): 0.02585704660426732\n"
     ]
    }
   ],
   "source": [
    "y_pred_tr = rf_regressor2.predict(x_train)\n",
    "MAPE_tr = mean_absolute_percentage_error(y_train, y_pred_tr)\n",
    "print(\"Mean Absolute Percentage Error (MAPE):\", MAPE_tr)"
   ]
  },
  {
   "cell_type": "code",
   "execution_count": 94,
   "id": "89696f27",
   "metadata": {
    "ExecuteTime": {
     "end_time": "2023-07-19T05:53:40.728306Z",
     "start_time": "2023-07-19T05:53:40.713615Z"
    }
   },
   "outputs": [
    {
     "name": "stdout",
     "output_type": "stream",
     "text": [
      "Mean Absolute Percentage Error (MAPE): 0.0693806319560217\n"
     ]
    }
   ],
   "source": [
    "from sklearn.metrics import mean_absolute_percentage_error\n",
    "MAPE_RF = mean_absolute_percentage_error(y_test, y_pred2)\n",
    "print(\"Mean Absolute Percentage Error (MAPE):\", MAPE_RF)"
   ]
  },
  {
   "cell_type": "code",
   "execution_count": 77,
   "id": "223a386c",
   "metadata": {
    "ExecuteTime": {
     "end_time": "2023-07-19T05:37:52.922240Z",
     "start_time": "2023-07-19T05:37:52.897285Z"
    }
   },
   "outputs": [],
   "source": [
    "# from xgboost import XGBRFRegressor\n",
    "# xg_regressor = XGBRFRegressor(n_estimators=500,learning_rate=0.1)\n",
    "# xg_regressor.fit(x_train, y_train)\n",
    "\n",
    "# # Make predictions on the test data\n",
    "# y_pred_xg = xg_regressor.predict(x_test)"
   ]
  },
  {
   "cell_type": "code",
   "execution_count": 78,
   "id": "2a063414",
   "metadata": {
    "ExecuteTime": {
     "end_time": "2023-07-19T05:37:52.998565Z",
     "start_time": "2023-07-19T05:37:52.911361Z"
    }
   },
   "outputs": [],
   "source": [
    "# MAPE_XG = mean_absolute_percentage_error(y_test, y_pred_xg)\n",
    "# print(\"Mean Absolute Percentage Error (MAPE):\", MAPE_XG)"
   ]
  },
  {
   "cell_type": "code",
   "execution_count": 95,
   "id": "ad78799b",
   "metadata": {
    "ExecuteTime": {
     "end_time": "2023-07-19T05:53:45.866504Z",
     "start_time": "2023-07-19T05:53:45.830254Z"
    }
   },
   "outputs": [
    {
     "data": {
      "text/plain": "LinearRegression()",
      "text/html": "<style>#sk-container-id-4 {color: black;background-color: white;}#sk-container-id-4 pre{padding: 0;}#sk-container-id-4 div.sk-toggleable {background-color: white;}#sk-container-id-4 label.sk-toggleable__label {cursor: pointer;display: block;width: 100%;margin-bottom: 0;padding: 0.3em;box-sizing: border-box;text-align: center;}#sk-container-id-4 label.sk-toggleable__label-arrow:before {content: \"▸\";float: left;margin-right: 0.25em;color: #696969;}#sk-container-id-4 label.sk-toggleable__label-arrow:hover:before {color: black;}#sk-container-id-4 div.sk-estimator:hover label.sk-toggleable__label-arrow:before {color: black;}#sk-container-id-4 div.sk-toggleable__content {max-height: 0;max-width: 0;overflow: hidden;text-align: left;background-color: #f0f8ff;}#sk-container-id-4 div.sk-toggleable__content pre {margin: 0.2em;color: black;border-radius: 0.25em;background-color: #f0f8ff;}#sk-container-id-4 input.sk-toggleable__control:checked~div.sk-toggleable__content {max-height: 200px;max-width: 100%;overflow: auto;}#sk-container-id-4 input.sk-toggleable__control:checked~label.sk-toggleable__label-arrow:before {content: \"▾\";}#sk-container-id-4 div.sk-estimator input.sk-toggleable__control:checked~label.sk-toggleable__label {background-color: #d4ebff;}#sk-container-id-4 div.sk-label input.sk-toggleable__control:checked~label.sk-toggleable__label {background-color: #d4ebff;}#sk-container-id-4 input.sk-hidden--visually {border: 0;clip: rect(1px 1px 1px 1px);clip: rect(1px, 1px, 1px, 1px);height: 1px;margin: -1px;overflow: hidden;padding: 0;position: absolute;width: 1px;}#sk-container-id-4 div.sk-estimator {font-family: monospace;background-color: #f0f8ff;border: 1px dotted black;border-radius: 0.25em;box-sizing: border-box;margin-bottom: 0.5em;}#sk-container-id-4 div.sk-estimator:hover {background-color: #d4ebff;}#sk-container-id-4 div.sk-parallel-item::after {content: \"\";width: 100%;border-bottom: 1px solid gray;flex-grow: 1;}#sk-container-id-4 div.sk-label:hover label.sk-toggleable__label {background-color: #d4ebff;}#sk-container-id-4 div.sk-serial::before {content: \"\";position: absolute;border-left: 1px solid gray;box-sizing: border-box;top: 0;bottom: 0;left: 50%;z-index: 0;}#sk-container-id-4 div.sk-serial {display: flex;flex-direction: column;align-items: center;background-color: white;padding-right: 0.2em;padding-left: 0.2em;position: relative;}#sk-container-id-4 div.sk-item {position: relative;z-index: 1;}#sk-container-id-4 div.sk-parallel {display: flex;align-items: stretch;justify-content: center;background-color: white;position: relative;}#sk-container-id-4 div.sk-item::before, #sk-container-id-4 div.sk-parallel-item::before {content: \"\";position: absolute;border-left: 1px solid gray;box-sizing: border-box;top: 0;bottom: 0;left: 50%;z-index: -1;}#sk-container-id-4 div.sk-parallel-item {display: flex;flex-direction: column;z-index: 1;position: relative;background-color: white;}#sk-container-id-4 div.sk-parallel-item:first-child::after {align-self: flex-end;width: 50%;}#sk-container-id-4 div.sk-parallel-item:last-child::after {align-self: flex-start;width: 50%;}#sk-container-id-4 div.sk-parallel-item:only-child::after {width: 0;}#sk-container-id-4 div.sk-dashed-wrapped {border: 1px dashed gray;margin: 0 0.4em 0.5em 0.4em;box-sizing: border-box;padding-bottom: 0.4em;background-color: white;}#sk-container-id-4 div.sk-label label {font-family: monospace;font-weight: bold;display: inline-block;line-height: 1.2em;}#sk-container-id-4 div.sk-label-container {text-align: center;}#sk-container-id-4 div.sk-container {/* jupyter's `normalize.less` sets `[hidden] { display: none; }` but bootstrap.min.css set `[hidden] { display: none !important; }` so we also need the `!important` here to be able to override the default hidden behavior on the sphinx rendered scikit-learn.org. See: https://github.com/scikit-learn/scikit-learn/issues/21755 */display: inline-block !important;position: relative;}#sk-container-id-4 div.sk-text-repr-fallback {display: none;}</style><div id=\"sk-container-id-4\" class=\"sk-top-container\"><div class=\"sk-text-repr-fallback\"><pre>LinearRegression()</pre><b>In a Jupyter environment, please rerun this cell to show the HTML representation or trust the notebook. <br />On GitHub, the HTML representation is unable to render, please try loading this page with nbviewer.org.</b></div><div class=\"sk-container\" hidden><div class=\"sk-item\"><div class=\"sk-estimator sk-toggleable\"><input class=\"sk-toggleable__control sk-hidden--visually\" id=\"sk-estimator-id-4\" type=\"checkbox\" checked><label for=\"sk-estimator-id-4\" class=\"sk-toggleable__label sk-toggleable__label-arrow\">LinearRegression</label><div class=\"sk-toggleable__content\"><pre>LinearRegression()</pre></div></div></div></div></div>"
     },
     "execution_count": 95,
     "metadata": {},
     "output_type": "execute_result"
    }
   ],
   "source": [
    "model_lr = LinearRegression() #Create a linear regression model\n",
    "model_lr.fit(x_train,y_train) #Fit the data"
   ]
  },
  {
   "cell_type": "code",
   "execution_count": 96,
   "id": "cdb915ea",
   "metadata": {
    "ExecuteTime": {
     "end_time": "2023-07-19T05:53:46.535074Z",
     "start_time": "2023-07-19T05:53:46.496097Z"
    }
   },
   "outputs": [
    {
     "name": "stdout",
     "output_type": "stream",
     "text": [
      "0.4522569403816086\n"
     ]
    }
   ],
   "source": [
    "y_pred =  model_lr.predict(x_test)\n",
    "MAPE_LR = mean_absolute_percentage_error(y_test, y_pred)\n",
    "print(MAPE_LR)"
   ]
  },
  {
   "cell_type": "code",
   "execution_count": 97,
   "id": "095f7faf",
   "metadata": {
    "ExecuteTime": {
     "end_time": "2023-07-19T05:53:47.082008Z",
     "start_time": "2023-07-19T05:53:47.074280Z"
    }
   },
   "outputs": [],
   "source": [
    "#rf_regressor.predict([[1.24,4,1,2,62.2,58,202.5]])"
   ]
  },
  {
   "cell_type": "code",
   "execution_count": 97,
   "id": "ed70a2e1",
   "metadata": {
    "ExecuteTime": {
     "end_time": "2023-07-19T05:53:47.482732Z",
     "start_time": "2023-07-19T05:53:47.470554Z"
    }
   },
   "outputs": [],
   "source": [
    "\n",
    "    "
   ]
  },
  {
   "cell_type": "code",
   "execution_count": 99,
   "id": "420c4f4d",
   "metadata": {
    "ExecuteTime": {
     "end_time": "2023-07-19T05:53:55.114922Z",
     "start_time": "2023-07-19T05:53:55.107970Z"
    }
   },
   "outputs": [],
   "source": [
    "# with open('model.pkl', 'wb') as f:\n",
    "#     pickle.dump(rf_regressor, f)"
   ]
  },
  {
   "cell_type": "code",
   "execution_count": 100,
   "id": "13f194b0",
   "metadata": {
    "ExecuteTime": {
     "end_time": "2023-07-19T05:53:55.623149Z",
     "start_time": "2023-07-19T05:53:55.617379Z"
    }
   },
   "outputs": [],
   "source": [
    "with open('model_lr.pkl', 'wb') as f:\n",
    "    pickle.dump(model_lr, f)"
   ]
  },
  {
   "cell_type": "code",
   "execution_count": 101,
   "id": "e25037c9",
   "metadata": {
    "ExecuteTime": {
     "end_time": "2023-07-19T05:53:56.551524Z",
     "start_time": "2023-07-19T05:53:56.149912Z"
    }
   },
   "outputs": [],
   "source": [
    "with open('model_rf_light.pkl', 'wb') as f:\n",
    "    pickle.dump(rf_regressor2, f)"
   ]
  },
  {
   "cell_type": "code",
   "execution_count": 102,
   "id": "a239f120",
   "metadata": {
    "ExecuteTime": {
     "end_time": "2023-07-19T05:54:45.629380Z",
     "start_time": "2023-07-19T05:53:57.028421Z"
    }
   },
   "outputs": [],
   "source": [
    "\n",
    "with gzip.open('model_rf_light.pkl.gz', 'wb') as f:\n",
    "    pickle.dump(rf_regressor2, f)"
   ]
  },
  {
   "cell_type": "code",
   "execution_count": 103,
   "outputs": [],
   "source": [
    "with gzip.open('model_rf_light.pkl.gz', 'rb') as file:\n",
    "    model_rf_light = pickle.load(file)"
   ],
   "metadata": {
    "collapsed": false,
    "ExecuteTime": {
     "end_time": "2023-07-19T05:54:46.670631Z",
     "start_time": "2023-07-19T05:54:45.619137Z"
    }
   }
  },
  {
   "cell_type": "code",
   "execution_count": 104,
   "id": "b0d18392",
   "metadata": {
    "ExecuteTime": {
     "end_time": "2023-07-19T05:54:46.706874Z",
     "start_time": "2023-07-19T05:54:46.660401Z"
    }
   },
   "outputs": [
    {
     "data": {
      "text/plain": "array([684.48])"
     },
     "execution_count": 104,
     "metadata": {},
     "output_type": "execute_result"
    }
   ],
   "source": [
    "model_rf_light.predict([[0.31, 3, 4, 4, 63.1, 58.0, 4.35, 4.30, 2.73]])"
   ]
  },
  {
   "cell_type": "code",
   "execution_count": 105,
   "outputs": [
    {
     "name": "stdout",
     "output_type": "stream",
     "text": [
      "Mean Absolute Percentage Error (MAPE): 0.02585704660426732\n"
     ]
    }
   ],
   "source": [
    "y_pred_tr = rf_regressor2.predict(x_train)\n",
    "MAPE_tr = mean_absolute_percentage_error(y_train, y_pred_tr)\n",
    "print(\"Mean Absolute Percentage Error (MAPE):\", MAPE_tr)"
   ],
   "metadata": {
    "collapsed": false,
    "ExecuteTime": {
     "end_time": "2023-07-19T05:54:47.287992Z",
     "start_time": "2023-07-19T05:54:46.696266Z"
    }
   }
  },
  {
   "cell_type": "code",
   "execution_count": 106,
   "outputs": [
    {
     "name": "stdout",
     "output_type": "stream",
     "text": [
      "Mean Absolute Percentage Error (MAPE): 0.0693806319560217\n"
     ]
    }
   ],
   "source": [
    "from sklearn.metrics import mean_absolute_percentage_error\n",
    "MAPE_RF = mean_absolute_percentage_error(y_test, y_pred2)\n",
    "print(\"Mean Absolute Percentage Error (MAPE):\", MAPE_RF)"
   ],
   "metadata": {
    "collapsed": false,
    "ExecuteTime": {
     "end_time": "2023-07-19T05:54:47.294756Z",
     "start_time": "2023-07-19T05:54:47.285514Z"
    }
   }
  },
  {
   "cell_type": "code",
   "execution_count": null,
   "outputs": [],
   "source": [],
   "metadata": {
    "collapsed": false
   }
  }
 ],
 "metadata": {
  "kernelspec": {
   "display_name": "Python 3 (ipykernel)",
   "language": "python",
   "name": "python3"
  },
  "language_info": {
   "codemirror_mode": {
    "name": "ipython",
    "version": 3
   },
   "file_extension": ".py",
   "mimetype": "text/x-python",
   "name": "python",
   "nbconvert_exporter": "python",
   "pygments_lexer": "ipython3",
   "version": "3.10.9"
  }
 },
 "nbformat": 4,
 "nbformat_minor": 5
}
