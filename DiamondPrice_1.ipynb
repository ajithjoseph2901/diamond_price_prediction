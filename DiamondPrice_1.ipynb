{
 "cells": [
  {
   "cell_type": "code",
   "execution_count": 1,
   "id": "c767086d",
   "metadata": {
    "ExecuteTime": {
     "end_time": "2023-07-18T22:25:19.773302Z",
     "start_time": "2023-07-18T22:25:15.159904Z"
    }
   },
   "outputs": [],
   "source": [
    "import numpy as np\n",
    "import pandas as pd\n",
    "import matplotlib.pyplot as plt\n",
    "import warnings\n",
    "warnings.filterwarnings(\"ignore\")\n",
    "import seaborn as sns\n",
    "sns.set(style='whitegrid')\n",
    "from sklearn.linear_model import LinearRegression\n",
    "from sklearn.model_selection import train_test_split\n",
    "from sklearn import metrics\n",
    "import statsmodels.api as sm\n",
    "import plotly.express as px \n",
    "from mlxtend.feature_selection import SequentialFeatureSelector\n",
    "from sklearn.metrics import mean_squared_error\n",
    "from sklearn.feature_selection import RFE\n",
    "from sklearn.metrics import SCORERS"
   ]
  },
  {
   "cell_type": "code",
   "execution_count": 2,
   "id": "ca502b20",
   "metadata": {
    "ExecuteTime": {
     "end_time": "2023-07-18T22:25:32.882817Z",
     "start_time": "2023-07-18T22:25:32.803510Z"
    }
   },
   "outputs": [],
   "source": [
    "df = pd.read_csv(\"DiamondsPrices.csv\")\n"
   ]
  },
  {
   "cell_type": "code",
   "execution_count": 3,
   "id": "134abecb",
   "metadata": {
    "ExecuteTime": {
     "end_time": "2023-07-18T22:25:33.882805Z",
     "start_time": "2023-07-18T22:25:33.793476Z"
    }
   },
   "outputs": [
    {
     "data": {
      "text/plain": "   carat      cut color clarity  depth  table  price     x     y     z\n0   0.23    Ideal     E     SI2   61.5   55.0    326  3.95  3.98  2.43\n1   0.21  Premium     E     SI1   59.8   61.0    326  3.89  3.84  2.31\n2   0.23     Good     E     VS1   56.9   65.0    327  4.05  4.07  2.31\n3   0.29  Premium     I     VS2   62.4   58.0    334  4.20  4.23  2.63\n4   0.31     Good     J     SI2   63.3   58.0    335  4.34  4.35  2.75",
      "text/html": "<div>\n<style scoped>\n    .dataframe tbody tr th:only-of-type {\n        vertical-align: middle;\n    }\n\n    .dataframe tbody tr th {\n        vertical-align: top;\n    }\n\n    .dataframe thead th {\n        text-align: right;\n    }\n</style>\n<table border=\"1\" class=\"dataframe\">\n  <thead>\n    <tr style=\"text-align: right;\">\n      <th></th>\n      <th>carat</th>\n      <th>cut</th>\n      <th>color</th>\n      <th>clarity</th>\n      <th>depth</th>\n      <th>table</th>\n      <th>price</th>\n      <th>x</th>\n      <th>y</th>\n      <th>z</th>\n    </tr>\n  </thead>\n  <tbody>\n    <tr>\n      <th>0</th>\n      <td>0.23</td>\n      <td>Ideal</td>\n      <td>E</td>\n      <td>SI2</td>\n      <td>61.5</td>\n      <td>55.0</td>\n      <td>326</td>\n      <td>3.95</td>\n      <td>3.98</td>\n      <td>2.43</td>\n    </tr>\n    <tr>\n      <th>1</th>\n      <td>0.21</td>\n      <td>Premium</td>\n      <td>E</td>\n      <td>SI1</td>\n      <td>59.8</td>\n      <td>61.0</td>\n      <td>326</td>\n      <td>3.89</td>\n      <td>3.84</td>\n      <td>2.31</td>\n    </tr>\n    <tr>\n      <th>2</th>\n      <td>0.23</td>\n      <td>Good</td>\n      <td>E</td>\n      <td>VS1</td>\n      <td>56.9</td>\n      <td>65.0</td>\n      <td>327</td>\n      <td>4.05</td>\n      <td>4.07</td>\n      <td>2.31</td>\n    </tr>\n    <tr>\n      <th>3</th>\n      <td>0.29</td>\n      <td>Premium</td>\n      <td>I</td>\n      <td>VS2</td>\n      <td>62.4</td>\n      <td>58.0</td>\n      <td>334</td>\n      <td>4.20</td>\n      <td>4.23</td>\n      <td>2.63</td>\n    </tr>\n    <tr>\n      <th>4</th>\n      <td>0.31</td>\n      <td>Good</td>\n      <td>J</td>\n      <td>SI2</td>\n      <td>63.3</td>\n      <td>58.0</td>\n      <td>335</td>\n      <td>4.34</td>\n      <td>4.35</td>\n      <td>2.75</td>\n    </tr>\n  </tbody>\n</table>\n</div>"
     },
     "execution_count": 3,
     "metadata": {},
     "output_type": "execute_result"
    }
   ],
   "source": [
    "df.head()"
   ]
  },
  {
   "cell_type": "code",
   "execution_count": 4,
   "id": "ec3fbdef",
   "metadata": {
    "ExecuteTime": {
     "end_time": "2023-07-18T22:25:35.204025Z",
     "start_time": "2023-07-18T22:25:35.046163Z"
    }
   },
   "outputs": [
    {
     "name": "stdout",
     "output_type": "stream",
     "text": [
      "<class 'pandas.core.frame.DataFrame'>\n",
      "RangeIndex: 53940 entries, 0 to 53939\n",
      "Data columns (total 10 columns):\n",
      " #   Column   Non-Null Count  Dtype  \n",
      "---  ------   --------------  -----  \n",
      " 0   carat    53940 non-null  float64\n",
      " 1   cut      53940 non-null  object \n",
      " 2   color    53940 non-null  object \n",
      " 3   clarity  53940 non-null  object \n",
      " 4   depth    53940 non-null  float64\n",
      " 5   table    53940 non-null  float64\n",
      " 6   price    53940 non-null  int64  \n",
      " 7   x        53940 non-null  float64\n",
      " 8   y        53940 non-null  float64\n",
      " 9   z        53940 non-null  float64\n",
      "dtypes: float64(6), int64(1), object(3)\n",
      "memory usage: 4.1+ MB\n"
     ]
    }
   ],
   "source": [
    "df.info()"
   ]
  },
  {
   "cell_type": "code",
   "execution_count": 5,
   "id": "ba9a7abd",
   "metadata": {
    "ExecuteTime": {
     "end_time": "2023-07-18T22:25:36.047742Z",
     "start_time": "2023-07-18T22:25:35.938184Z"
    }
   },
   "outputs": [
    {
     "data": {
      "text/plain": "              carat         depth         table         price             x   \ncount  53940.000000  53940.000000  53940.000000  53940.000000  53940.000000  \\\nmean       0.797940     61.749405     57.457184   3932.799722      5.731157   \nstd        0.474011      1.432621      2.234491   3989.439738      1.121761   \nmin        0.200000     43.000000     43.000000    326.000000      0.000000   \n25%        0.400000     61.000000     56.000000    950.000000      4.710000   \n50%        0.700000     61.800000     57.000000   2401.000000      5.700000   \n75%        1.040000     62.500000     59.000000   5324.250000      6.540000   \nmax        5.010000     79.000000     95.000000  18823.000000     10.740000   \n\n                  y             z  \ncount  53940.000000  53940.000000  \nmean       5.734526      3.538734  \nstd        1.142135      0.705699  \nmin        0.000000      0.000000  \n25%        4.720000      2.910000  \n50%        5.710000      3.530000  \n75%        6.540000      4.040000  \nmax       58.900000     31.800000  ",
      "text/html": "<div>\n<style scoped>\n    .dataframe tbody tr th:only-of-type {\n        vertical-align: middle;\n    }\n\n    .dataframe tbody tr th {\n        vertical-align: top;\n    }\n\n    .dataframe thead th {\n        text-align: right;\n    }\n</style>\n<table border=\"1\" class=\"dataframe\">\n  <thead>\n    <tr style=\"text-align: right;\">\n      <th></th>\n      <th>carat</th>\n      <th>depth</th>\n      <th>table</th>\n      <th>price</th>\n      <th>x</th>\n      <th>y</th>\n      <th>z</th>\n    </tr>\n  </thead>\n  <tbody>\n    <tr>\n      <th>count</th>\n      <td>53940.000000</td>\n      <td>53940.000000</td>\n      <td>53940.000000</td>\n      <td>53940.000000</td>\n      <td>53940.000000</td>\n      <td>53940.000000</td>\n      <td>53940.000000</td>\n    </tr>\n    <tr>\n      <th>mean</th>\n      <td>0.797940</td>\n      <td>61.749405</td>\n      <td>57.457184</td>\n      <td>3932.799722</td>\n      <td>5.731157</td>\n      <td>5.734526</td>\n      <td>3.538734</td>\n    </tr>\n    <tr>\n      <th>std</th>\n      <td>0.474011</td>\n      <td>1.432621</td>\n      <td>2.234491</td>\n      <td>3989.439738</td>\n      <td>1.121761</td>\n      <td>1.142135</td>\n      <td>0.705699</td>\n    </tr>\n    <tr>\n      <th>min</th>\n      <td>0.200000</td>\n      <td>43.000000</td>\n      <td>43.000000</td>\n      <td>326.000000</td>\n      <td>0.000000</td>\n      <td>0.000000</td>\n      <td>0.000000</td>\n    </tr>\n    <tr>\n      <th>25%</th>\n      <td>0.400000</td>\n      <td>61.000000</td>\n      <td>56.000000</td>\n      <td>950.000000</td>\n      <td>4.710000</td>\n      <td>4.720000</td>\n      <td>2.910000</td>\n    </tr>\n    <tr>\n      <th>50%</th>\n      <td>0.700000</td>\n      <td>61.800000</td>\n      <td>57.000000</td>\n      <td>2401.000000</td>\n      <td>5.700000</td>\n      <td>5.710000</td>\n      <td>3.530000</td>\n    </tr>\n    <tr>\n      <th>75%</th>\n      <td>1.040000</td>\n      <td>62.500000</td>\n      <td>59.000000</td>\n      <td>5324.250000</td>\n      <td>6.540000</td>\n      <td>6.540000</td>\n      <td>4.040000</td>\n    </tr>\n    <tr>\n      <th>max</th>\n      <td>5.010000</td>\n      <td>79.000000</td>\n      <td>95.000000</td>\n      <td>18823.000000</td>\n      <td>10.740000</td>\n      <td>58.900000</td>\n      <td>31.800000</td>\n    </tr>\n  </tbody>\n</table>\n</div>"
     },
     "execution_count": 5,
     "metadata": {},
     "output_type": "execute_result"
    }
   ],
   "source": [
    "df.describe()\n"
   ]
  },
  {
   "cell_type": "code",
   "execution_count": 6,
   "id": "de21b232",
   "metadata": {
    "ExecuteTime": {
     "end_time": "2023-07-18T22:25:36.547761Z",
     "start_time": "2023-07-18T22:25:36.488873Z"
    }
   },
   "outputs": [],
   "source": [
    "df = df.drop_duplicates()"
   ]
  },
  {
   "cell_type": "code",
   "execution_count": 7,
   "id": "5f062475",
   "metadata": {
    "ExecuteTime": {
     "end_time": "2023-07-18T22:25:38.075719Z",
     "start_time": "2023-07-18T22:25:38.057039Z"
    }
   },
   "outputs": [
    {
     "name": "stdout",
     "output_type": "stream",
     "text": [
      "<class 'pandas.core.frame.DataFrame'>\n",
      "Index: 53794 entries, 0 to 53939\n",
      "Data columns (total 10 columns):\n",
      " #   Column   Non-Null Count  Dtype  \n",
      "---  ------   --------------  -----  \n",
      " 0   carat    53794 non-null  float64\n",
      " 1   cut      53794 non-null  object \n",
      " 2   color    53794 non-null  object \n",
      " 3   clarity  53794 non-null  object \n",
      " 4   depth    53794 non-null  float64\n",
      " 5   table    53794 non-null  float64\n",
      " 6   price    53794 non-null  int64  \n",
      " 7   x        53794 non-null  float64\n",
      " 8   y        53794 non-null  float64\n",
      " 9   z        53794 non-null  float64\n",
      "dtypes: float64(6), int64(1), object(3)\n",
      "memory usage: 4.5+ MB\n"
     ]
    }
   ],
   "source": [
    "df.info()"
   ]
  },
  {
   "cell_type": "code",
   "execution_count": 8,
   "id": "da40b2fa",
   "metadata": {
    "ExecuteTime": {
     "end_time": "2023-07-18T22:25:38.695127Z",
     "start_time": "2023-07-18T22:25:38.675885Z"
    }
   },
   "outputs": [],
   "source": [
    "# data=df"
   ]
  },
  {
   "cell_type": "code",
   "execution_count": 9,
   "id": "dbdac906",
   "metadata": {
    "ExecuteTime": {
     "end_time": "2023-07-18T22:25:40.590923Z",
     "start_time": "2023-07-18T22:25:40.566390Z"
    }
   },
   "outputs": [],
   "source": [
    "# import pandas as pd\n",
    "# import numpy as np\n",
    "\n",
    "# def remove_outliers_z_score(df, price, threshold=3):\n",
    " \n",
    "\n",
    "#     # Calculate the Z-scores for the specified column\n",
    "#     z_scores = (df[price] - df[price].mean()) / df[price].std()\n",
    "\n",
    "#     # Find the indices of rows where the Z-score of the column is greater than the threshold\n",
    "#     outlier_indices = np.where(np.abs(z_scores) > threshold)\n",
    "\n",
    "#     # Filter out the rows containing outliers in the specified column\n",
    "#     filtered_df = df.loc[~df.index.isin(outlier_indices)]\n",
    "\n",
    "#     return filtered_df\n"
   ]
  },
  {
   "cell_type": "code",
   "execution_count": 10,
   "id": "db3bf6a7",
   "metadata": {
    "ExecuteTime": {
     "end_time": "2023-07-18T22:25:41.185876Z",
     "start_time": "2023-07-18T22:25:41.179392Z"
    }
   },
   "outputs": [],
   "source": [
    "# column_name = 'price'\n",
    "# threshold = 3  # You can adjust this threshold value as needed\n",
    "\n",
    "# filtered_df = remove_outliers_z_score(df, column_name, threshold)\n",
    "# print(filtered_df)"
   ]
  },
  {
   "cell_type": "code",
   "execution_count": 11,
   "id": "6e2c574f",
   "metadata": {
    "ExecuteTime": {
     "end_time": "2023-07-18T22:25:41.970245Z",
     "start_time": "2023-07-18T22:25:41.965726Z"
    }
   },
   "outputs": [],
   "source": [
    "# #Removing outliers\n",
    "\n",
    "# #removing outliers with IQR \n",
    "\n",
    "# q1 = np.quantile(df.price, 0.25) #1st quantile\n",
    "# q2 = np.quantile(df.price, 0.5) #2nd quantile\n",
    "# q3 = np.quantile(df.price, 0.75) #3rd quantile\n",
    "# IQR = q3 - q1 #Inter - Quartile Range"
   ]
  },
  {
   "cell_type": "code",
   "execution_count": 12,
   "id": "c5cf71fa",
   "metadata": {
    "ExecuteTime": {
     "end_time": "2023-07-18T22:25:42.552294Z",
     "start_time": "2023-07-18T22:25:42.546704Z"
    }
   },
   "outputs": [],
   "source": [
    "# #setting the fences on our dataset to identify the outliers\n",
    "\n",
    "# lower = q1 - (1.5*IQR) #lower whisker\n",
    "# upper = q3 + (1.5*IQR) #upper whisker"
   ]
  },
  {
   "cell_type": "code",
   "execution_count": 13,
   "id": "81ba2ca1",
   "metadata": {
    "ExecuteTime": {
     "end_time": "2023-07-18T22:25:43.115333Z",
     "start_time": "2023-07-18T22:25:43.106292Z"
    }
   },
   "outputs": [],
   "source": [
    "# #removal of lower and upper outliers in our data\n",
    "\n",
    "# df = df[~((df.price > upper) | (df.price < lower))]"
   ]
  },
  {
   "cell_type": "code",
   "execution_count": 14,
   "id": "2ae701b2",
   "metadata": {
    "ExecuteTime": {
     "end_time": "2023-07-18T22:25:43.492397Z",
     "start_time": "2023-07-18T22:25:43.488081Z"
    }
   },
   "outputs": [
    {
     "data": {
      "text/plain": "(53794, 10)"
     },
     "execution_count": 14,
     "metadata": {},
     "output_type": "execute_result"
    }
   ],
   "source": [
    "df.shape"
   ]
  },
  {
   "cell_type": "code",
   "execution_count": 15,
   "id": "e1edbd2d",
   "metadata": {
    "ExecuteTime": {
     "end_time": "2023-07-18T22:25:44.076758Z",
     "start_time": "2023-07-18T22:25:44.021701Z"
    }
   },
   "outputs": [
    {
     "data": {
      "text/plain": "carat      0\ncut        0\ncolor      0\nclarity    0\ndepth      0\ntable      0\nprice      0\nx          0\ny          0\nz          0\ndtype: int64"
     },
     "execution_count": 15,
     "metadata": {},
     "output_type": "execute_result"
    }
   ],
   "source": [
    "df.isna().sum()"
   ]
  },
  {
   "cell_type": "code",
   "execution_count": 16,
   "id": "d6b6f8c3",
   "metadata": {
    "ExecuteTime": {
     "end_time": "2023-07-18T22:25:44.861202Z",
     "start_time": "2023-07-18T22:25:44.740420Z"
    }
   },
   "outputs": [
    {
     "data": {
      "text/plain": "   carat  cut  color  clarity  depth  table  price     x     y     z\n0   0.23    5      6        2   61.5   55.0    326  3.95  3.98  2.43\n1   0.21    4      6        3   59.8   61.0    326  3.89  3.84  2.31\n2   0.23    2      6        5   56.9   65.0    327  4.05  4.07  2.31\n3   0.29    4      2        4   62.4   58.0    334  4.20  4.23  2.63\n4   0.31    2      1        2   63.3   58.0    335  4.34  4.35  2.75",
      "text/html": "<div>\n<style scoped>\n    .dataframe tbody tr th:only-of-type {\n        vertical-align: middle;\n    }\n\n    .dataframe tbody tr th {\n        vertical-align: top;\n    }\n\n    .dataframe thead th {\n        text-align: right;\n    }\n</style>\n<table border=\"1\" class=\"dataframe\">\n  <thead>\n    <tr style=\"text-align: right;\">\n      <th></th>\n      <th>carat</th>\n      <th>cut</th>\n      <th>color</th>\n      <th>clarity</th>\n      <th>depth</th>\n      <th>table</th>\n      <th>price</th>\n      <th>x</th>\n      <th>y</th>\n      <th>z</th>\n    </tr>\n  </thead>\n  <tbody>\n    <tr>\n      <th>0</th>\n      <td>0.23</td>\n      <td>5</td>\n      <td>6</td>\n      <td>2</td>\n      <td>61.5</td>\n      <td>55.0</td>\n      <td>326</td>\n      <td>3.95</td>\n      <td>3.98</td>\n      <td>2.43</td>\n    </tr>\n    <tr>\n      <th>1</th>\n      <td>0.21</td>\n      <td>4</td>\n      <td>6</td>\n      <td>3</td>\n      <td>59.8</td>\n      <td>61.0</td>\n      <td>326</td>\n      <td>3.89</td>\n      <td>3.84</td>\n      <td>2.31</td>\n    </tr>\n    <tr>\n      <th>2</th>\n      <td>0.23</td>\n      <td>2</td>\n      <td>6</td>\n      <td>5</td>\n      <td>56.9</td>\n      <td>65.0</td>\n      <td>327</td>\n      <td>4.05</td>\n      <td>4.07</td>\n      <td>2.31</td>\n    </tr>\n    <tr>\n      <th>3</th>\n      <td>0.29</td>\n      <td>4</td>\n      <td>2</td>\n      <td>4</td>\n      <td>62.4</td>\n      <td>58.0</td>\n      <td>334</td>\n      <td>4.20</td>\n      <td>4.23</td>\n      <td>2.63</td>\n    </tr>\n    <tr>\n      <th>4</th>\n      <td>0.31</td>\n      <td>2</td>\n      <td>1</td>\n      <td>2</td>\n      <td>63.3</td>\n      <td>58.0</td>\n      <td>335</td>\n      <td>4.34</td>\n      <td>4.35</td>\n      <td>2.75</td>\n    </tr>\n  </tbody>\n</table>\n</div>"
     },
     "execution_count": 16,
     "metadata": {},
     "output_type": "execute_result"
    }
   ],
   "source": [
    "#df=pd.get_dummies(df,prefix=['color','cut','clarity'],drop_first=True)\n",
    "#Replacing the categorical value colour, cut and clarity without using built in function for categorical data\n",
    "df=df.replace({'color' : { 'D' : 7, 'E' : 6, 'F' : 5, 'G' : 4, 'H': 3, 'I':2, 'J':1}})\n",
    "df=df.replace({'cut': {'Ideal':5, 'Premium': 4, 'Very Good':3, 'Good':2, 'Fair':1}})\n",
    "df=df.replace({'clarity': {\"IF\": 8, 'VVS1' :7, 'VVS2': 6, 'VS1': 5, 'VS2': 4, 'SI1':3, 'SI2': 2, 'I1':1}})\n",
    "#Visualize the data frame\n",
    "df.head()\n"
   ]
  },
  {
   "cell_type": "code",
   "execution_count": 17,
   "id": "69ba0fc4",
   "metadata": {
    "ExecuteTime": {
     "end_time": "2023-07-18T22:25:45.751077Z",
     "start_time": "2023-07-18T22:25:45.678755Z"
    }
   },
   "outputs": [
    {
     "name": "stdout",
     "output_type": "stream",
     "text": [
      "<class 'pandas.core.frame.DataFrame'>\n",
      "Index: 53794 entries, 0 to 53939\n",
      "Data columns (total 10 columns):\n",
      " #   Column   Non-Null Count  Dtype  \n",
      "---  ------   --------------  -----  \n",
      " 0   carat    53794 non-null  float64\n",
      " 1   cut      53794 non-null  int64  \n",
      " 2   color    53794 non-null  int64  \n",
      " 3   clarity  53794 non-null  int64  \n",
      " 4   depth    53794 non-null  float64\n",
      " 5   table    53794 non-null  float64\n",
      " 6   price    53794 non-null  int64  \n",
      " 7   x        53794 non-null  float64\n",
      " 8   y        53794 non-null  float64\n",
      " 9   z        53794 non-null  float64\n",
      "dtypes: float64(6), int64(4)\n",
      "memory usage: 4.5 MB\n"
     ]
    }
   ],
   "source": [
    "df.info()"
   ]
  },
  {
   "cell_type": "code",
   "execution_count": 18,
   "id": "33a6d24c",
   "metadata": {
    "ExecuteTime": {
     "end_time": "2023-07-18T22:25:47.088907Z",
     "start_time": "2023-07-18T22:25:46.326407Z"
    }
   },
   "outputs": [
    {
     "data": {
      "text/plain": "                 vif\nconst    6746.231830\ncarat      39.957040\ncut         1.496206\ncolor       1.324426\nclarity     1.687989\ndepth       1.728444\ntable       1.587318\nprice      10.764877\nx          57.659557\ny          20.382617\nz          23.436486",
      "text/html": "<div>\n<style scoped>\n    .dataframe tbody tr th:only-of-type {\n        vertical-align: middle;\n    }\n\n    .dataframe tbody tr th {\n        vertical-align: top;\n    }\n\n    .dataframe thead th {\n        text-align: right;\n    }\n</style>\n<table border=\"1\" class=\"dataframe\">\n  <thead>\n    <tr style=\"text-align: right;\">\n      <th></th>\n      <th>vif</th>\n    </tr>\n  </thead>\n  <tbody>\n    <tr>\n      <th>const</th>\n      <td>6746.231830</td>\n    </tr>\n    <tr>\n      <th>carat</th>\n      <td>39.957040</td>\n    </tr>\n    <tr>\n      <th>cut</th>\n      <td>1.496206</td>\n    </tr>\n    <tr>\n      <th>color</th>\n      <td>1.324426</td>\n    </tr>\n    <tr>\n      <th>clarity</th>\n      <td>1.687989</td>\n    </tr>\n    <tr>\n      <th>depth</th>\n      <td>1.728444</td>\n    </tr>\n    <tr>\n      <th>table</th>\n      <td>1.587318</td>\n    </tr>\n    <tr>\n      <th>price</th>\n      <td>10.764877</td>\n    </tr>\n    <tr>\n      <th>x</th>\n      <td>57.659557</td>\n    </tr>\n    <tr>\n      <th>y</th>\n      <td>20.382617</td>\n    </tr>\n    <tr>\n      <th>z</th>\n      <td>23.436486</td>\n    </tr>\n  </tbody>\n</table>\n</div>"
     },
     "execution_count": 18,
     "metadata": {},
     "output_type": "execute_result"
    }
   ],
   "source": [
    "numeric_df = df.select_dtypes(include=[np.number])\n",
    "numeric_df = sm.add_constant(numeric_df)\n",
    "\n",
    "from statsmodels.stats.outliers_influence import variance_inflation_factor as vif\n",
    "vif = [vif(numeric_df, i) for i in range(numeric_df.shape[1])]\n",
    "\n",
    "pd.DataFrame(vif, index=numeric_df.columns, columns=['vif'])"
   ]
  },
  {
   "cell_type": "code",
   "execution_count": 19,
   "id": "5139f35b",
   "metadata": {
    "ExecuteTime": {
     "end_time": "2023-07-18T22:25:47.184089Z",
     "start_time": "2023-07-18T22:25:47.125617Z"
    }
   },
   "outputs": [
    {
     "data": {
      "text/plain": "   carat  cut  color  clarity  depth  table  price     volume\n0   0.23    5      6        2   61.5   55.0    326  38.202030\n1   0.21    4      6        3   59.8   61.0    326  34.505856\n2   0.23    2      6        5   56.9   65.0    327  38.076885\n3   0.29    4      2        4   62.4   58.0    334  46.724580\n4   0.31    2      1        2   63.3   58.0    335  51.917250",
      "text/html": "<div>\n<style scoped>\n    .dataframe tbody tr th:only-of-type {\n        vertical-align: middle;\n    }\n\n    .dataframe tbody tr th {\n        vertical-align: top;\n    }\n\n    .dataframe thead th {\n        text-align: right;\n    }\n</style>\n<table border=\"1\" class=\"dataframe\">\n  <thead>\n    <tr style=\"text-align: right;\">\n      <th></th>\n      <th>carat</th>\n      <th>cut</th>\n      <th>color</th>\n      <th>clarity</th>\n      <th>depth</th>\n      <th>table</th>\n      <th>price</th>\n      <th>volume</th>\n    </tr>\n  </thead>\n  <tbody>\n    <tr>\n      <th>0</th>\n      <td>0.23</td>\n      <td>5</td>\n      <td>6</td>\n      <td>2</td>\n      <td>61.5</td>\n      <td>55.0</td>\n      <td>326</td>\n      <td>38.202030</td>\n    </tr>\n    <tr>\n      <th>1</th>\n      <td>0.21</td>\n      <td>4</td>\n      <td>6</td>\n      <td>3</td>\n      <td>59.8</td>\n      <td>61.0</td>\n      <td>326</td>\n      <td>34.505856</td>\n    </tr>\n    <tr>\n      <th>2</th>\n      <td>0.23</td>\n      <td>2</td>\n      <td>6</td>\n      <td>5</td>\n      <td>56.9</td>\n      <td>65.0</td>\n      <td>327</td>\n      <td>38.076885</td>\n    </tr>\n    <tr>\n      <th>3</th>\n      <td>0.29</td>\n      <td>4</td>\n      <td>2</td>\n      <td>4</td>\n      <td>62.4</td>\n      <td>58.0</td>\n      <td>334</td>\n      <td>46.724580</td>\n    </tr>\n    <tr>\n      <th>4</th>\n      <td>0.31</td>\n      <td>2</td>\n      <td>1</td>\n      <td>2</td>\n      <td>63.3</td>\n      <td>58.0</td>\n      <td>335</td>\n      <td>51.917250</td>\n    </tr>\n  </tbody>\n</table>\n</div>"
     },
     "execution_count": 19,
     "metadata": {},
     "output_type": "execute_result"
    }
   ],
   "source": [
    "#Reducing three variables x, y, z to a single variable\n",
    "df['volume']= df['x']*df['y']*df[\"z\"] \n",
    "#now we can drop x,y,z columns\n",
    "df=df.drop(['x','y','z'], axis=1)\n",
    "#Visualizing the data frame to see the change\n",
    "df.head()"
   ]
  },
  {
   "cell_type": "code",
   "execution_count": 20,
   "id": "8428cfc1",
   "metadata": {
    "ExecuteTime": {
     "end_time": "2023-07-18T22:25:52.579686Z",
     "start_time": "2023-07-18T22:25:52.561181Z"
    }
   },
   "outputs": [],
   "source": [
    "df=df[df['volume']>0]"
   ]
  },
  {
   "cell_type": "code",
   "execution_count": 21,
   "id": "ab564836",
   "metadata": {
    "ExecuteTime": {
     "end_time": "2023-07-18T22:25:53.256869Z",
     "start_time": "2023-07-18T22:25:53.236272Z"
    }
   },
   "outputs": [
    {
     "name": "stdout",
     "output_type": "stream",
     "text": [
      "<class 'pandas.core.frame.DataFrame'>\n",
      "Index: 53775 entries, 0 to 53939\n",
      "Data columns (total 8 columns):\n",
      " #   Column   Non-Null Count  Dtype  \n",
      "---  ------   --------------  -----  \n",
      " 0   carat    53775 non-null  float64\n",
      " 1   cut      53775 non-null  int64  \n",
      " 2   color    53775 non-null  int64  \n",
      " 3   clarity  53775 non-null  int64  \n",
      " 4   depth    53775 non-null  float64\n",
      " 5   table    53775 non-null  float64\n",
      " 6   price    53775 non-null  int64  \n",
      " 7   volume   53775 non-null  float64\n",
      "dtypes: float64(4), int64(4)\n",
      "memory usage: 3.7 MB\n"
     ]
    }
   ],
   "source": [
    "df.info()"
   ]
  },
  {
   "cell_type": "code",
   "execution_count": 22,
   "id": "62ae620a",
   "metadata": {
    "ExecuteTime": {
     "end_time": "2023-07-18T22:25:54.135997Z",
     "start_time": "2023-07-18T22:25:53.858820Z"
    }
   },
   "outputs": [
    {
     "data": {
      "text/plain": "                 vif\nconst    5396.203674\ncarat      34.917574\ncut         1.494597\ncolor       1.311436\nclarity     1.685047\ndepth       1.338401\ntable       1.589348\nprice      10.459538\nvolume     23.528042",
      "text/html": "<div>\n<style scoped>\n    .dataframe tbody tr th:only-of-type {\n        vertical-align: middle;\n    }\n\n    .dataframe tbody tr th {\n        vertical-align: top;\n    }\n\n    .dataframe thead th {\n        text-align: right;\n    }\n</style>\n<table border=\"1\" class=\"dataframe\">\n  <thead>\n    <tr style=\"text-align: right;\">\n      <th></th>\n      <th>vif</th>\n    </tr>\n  </thead>\n  <tbody>\n    <tr>\n      <th>const</th>\n      <td>5396.203674</td>\n    </tr>\n    <tr>\n      <th>carat</th>\n      <td>34.917574</td>\n    </tr>\n    <tr>\n      <th>cut</th>\n      <td>1.494597</td>\n    </tr>\n    <tr>\n      <th>color</th>\n      <td>1.311436</td>\n    </tr>\n    <tr>\n      <th>clarity</th>\n      <td>1.685047</td>\n    </tr>\n    <tr>\n      <th>depth</th>\n      <td>1.338401</td>\n    </tr>\n    <tr>\n      <th>table</th>\n      <td>1.589348</td>\n    </tr>\n    <tr>\n      <th>price</th>\n      <td>10.459538</td>\n    </tr>\n    <tr>\n      <th>volume</th>\n      <td>23.528042</td>\n    </tr>\n  </tbody>\n</table>\n</div>"
     },
     "execution_count": 22,
     "metadata": {},
     "output_type": "execute_result"
    }
   ],
   "source": [
    "numeric_df = df.select_dtypes(include=[np.number])\n",
    "numeric_df = sm.add_constant(numeric_df)\n",
    "\n",
    "from statsmodels.stats.outliers_influence import variance_inflation_factor as vif\n",
    "vif = [vif(numeric_df, i) for i in range(numeric_df.shape[1])]\n",
    "\n",
    "pd.DataFrame(vif, index=numeric_df.columns, columns=['vif'])"
   ]
  },
  {
   "cell_type": "code",
   "execution_count": 23,
   "id": "c0022299",
   "metadata": {
    "ExecuteTime": {
     "end_time": "2023-07-18T22:25:55.009592Z",
     "start_time": "2023-07-18T22:25:55.005281Z"
    }
   },
   "outputs": [],
   "source": [
    "y= df['price'] #dependent variable is price\n",
    "x= df.drop(['price'], axis=1)"
   ]
  },
  {
   "cell_type": "code",
   "execution_count": 24,
   "id": "b2bcf768",
   "metadata": {
    "ExecuteTime": {
     "end_time": "2023-07-18T22:25:55.692411Z",
     "start_time": "2023-07-18T22:25:55.667351Z"
    }
   },
   "outputs": [
    {
     "data": {
      "text/plain": "   carat  cut  color  clarity  depth  table     volume\n0   0.23    5      6        2   61.5   55.0  38.202030\n1   0.21    4      6        3   59.8   61.0  34.505856\n2   0.23    2      6        5   56.9   65.0  38.076885\n3   0.29    4      2        4   62.4   58.0  46.724580\n4   0.31    2      1        2   63.3   58.0  51.917250",
      "text/html": "<div>\n<style scoped>\n    .dataframe tbody tr th:only-of-type {\n        vertical-align: middle;\n    }\n\n    .dataframe tbody tr th {\n        vertical-align: top;\n    }\n\n    .dataframe thead th {\n        text-align: right;\n    }\n</style>\n<table border=\"1\" class=\"dataframe\">\n  <thead>\n    <tr style=\"text-align: right;\">\n      <th></th>\n      <th>carat</th>\n      <th>cut</th>\n      <th>color</th>\n      <th>clarity</th>\n      <th>depth</th>\n      <th>table</th>\n      <th>volume</th>\n    </tr>\n  </thead>\n  <tbody>\n    <tr>\n      <th>0</th>\n      <td>0.23</td>\n      <td>5</td>\n      <td>6</td>\n      <td>2</td>\n      <td>61.5</td>\n      <td>55.0</td>\n      <td>38.202030</td>\n    </tr>\n    <tr>\n      <th>1</th>\n      <td>0.21</td>\n      <td>4</td>\n      <td>6</td>\n      <td>3</td>\n      <td>59.8</td>\n      <td>61.0</td>\n      <td>34.505856</td>\n    </tr>\n    <tr>\n      <th>2</th>\n      <td>0.23</td>\n      <td>2</td>\n      <td>6</td>\n      <td>5</td>\n      <td>56.9</td>\n      <td>65.0</td>\n      <td>38.076885</td>\n    </tr>\n    <tr>\n      <th>3</th>\n      <td>0.29</td>\n      <td>4</td>\n      <td>2</td>\n      <td>4</td>\n      <td>62.4</td>\n      <td>58.0</td>\n      <td>46.724580</td>\n    </tr>\n    <tr>\n      <th>4</th>\n      <td>0.31</td>\n      <td>2</td>\n      <td>1</td>\n      <td>2</td>\n      <td>63.3</td>\n      <td>58.0</td>\n      <td>51.917250</td>\n    </tr>\n  </tbody>\n</table>\n</div>"
     },
     "execution_count": 24,
     "metadata": {},
     "output_type": "execute_result"
    }
   ],
   "source": [
    "x.head()"
   ]
  },
  {
   "cell_type": "code",
   "execution_count": 43,
   "id": "7937ff76",
   "metadata": {
    "ExecuteTime": {
     "end_time": "2023-07-18T23:44:04.847359Z",
     "start_time": "2023-07-18T23:44:02.133228Z"
    }
   },
   "outputs": [],
   "source": [
    "from sklearn.ensemble import RandomForestRegressor\n",
    "from sklearn.model_selection import train_test_split\n",
    "from sklearn.metrics import mean_squared_error\n",
    "\n",
    "# splitting the data\n",
    "# x_train, x_test, y_train, y_test = train_test_split(x,y, test_size= 0.2)\n",
    "x_train, x_test, y_train, y_test = train_test_split(x,y, test_size= 0.9)\n",
    "# Create a random forest regressor object\n",
    "rf_regressor = RandomForestRegressor(n_estimators=200, random_state=42)\n",
    "rf_regressor2 = RandomForestRegressor(n_estimators=100, random_state=2)\n",
    "\n",
    "# Train the regressor on the training data\n",
    "# rf_regressor.fit(x_train, y_train)\n",
    "rf_regressor2.fit(x_train, y_train)\n",
    "\n",
    "# Make predictions on the test data\n",
    "# y_pred = rf_regressor.predict(x_test)\n",
    "y_pred2 = rf_regressor2.predict(x_test)"
   ]
  },
  {
   "cell_type": "code",
   "execution_count": 26,
   "id": "bc045ecb",
   "metadata": {
    "ExecuteTime": {
     "end_time": "2023-07-18T22:26:28.180336Z",
     "start_time": "2023-07-18T22:26:28.172764Z"
    }
   },
   "outputs": [
    {
     "name": "stdout",
     "output_type": "stream",
     "text": [
      "Mean Absolute Percentage Error (MAPE): 0.08182378176148902\n"
     ]
    }
   ],
   "source": [
    "# from sklearn.metrics import mean_absolute_percentage_error\n",
    "# MAPE_RF = mean_absolute_percentage_error(y_test, y_pred)\n",
    "# print(\"Mean Absolute Percentage Error (MAPE):\", MAPE_RF)"
   ]
  },
  {
   "cell_type": "code",
   "execution_count": 44,
   "outputs": [
    {
     "name": "stdout",
     "output_type": "stream",
     "text": [
      "Mean Absolute Percentage Error (MAPE): 0.09158557939723687\n"
     ]
    }
   ],
   "source": [
    "from sklearn.metrics import mean_absolute_percentage_error\n",
    "MAPE_RF = mean_absolute_percentage_error(y_test, y_pred2)\n",
    "print(\"Mean Absolute Percentage Error (MAPE):\", MAPE_RF)"
   ],
   "metadata": {
    "collapsed": false,
    "ExecuteTime": {
     "end_time": "2023-07-18T23:44:12.450519Z",
     "start_time": "2023-07-18T23:44:11.927369Z"
    }
   }
  },
  {
   "cell_type": "code",
   "execution_count": 27,
   "id": "223a386c",
   "metadata": {
    "ExecuteTime": {
     "end_time": "2023-07-18T22:26:28.184530Z",
     "start_time": "2023-07-18T22:26:28.177707Z"
    }
   },
   "outputs": [],
   "source": [
    "# from xgboost import XGBRFRegressor\n",
    "# xg_regressor = XGBRFRegressor(n_estimators=500,learning_rate=0.1)\n",
    "# xg_regressor.fit(x_train, y_train)\n",
    "\n",
    "# # Make predictions on the test data\n",
    "# y_pred_xg = xg_regressor.predict(x_test)"
   ]
  },
  {
   "cell_type": "code",
   "execution_count": 28,
   "id": "2a063414",
   "metadata": {
    "ExecuteTime": {
     "end_time": "2023-07-18T22:26:28.189986Z",
     "start_time": "2023-07-18T22:26:28.184856Z"
    }
   },
   "outputs": [],
   "source": [
    "# MAPE_XG = mean_absolute_percentage_error(y_test, y_pred_xg)\n",
    "# print(\"Mean Absolute Percentage Error (MAPE):\", MAPE_XG)"
   ]
  },
  {
   "cell_type": "code",
   "execution_count": 38,
   "id": "ad78799b",
   "metadata": {
    "ExecuteTime": {
     "end_time": "2023-07-18T23:19:18.971457Z",
     "start_time": "2023-07-18T23:19:18.359283Z"
    }
   },
   "outputs": [
    {
     "data": {
      "text/plain": "LinearRegression()",
      "text/html": "<style>#sk-container-id-2 {color: black;background-color: white;}#sk-container-id-2 pre{padding: 0;}#sk-container-id-2 div.sk-toggleable {background-color: white;}#sk-container-id-2 label.sk-toggleable__label {cursor: pointer;display: block;width: 100%;margin-bottom: 0;padding: 0.3em;box-sizing: border-box;text-align: center;}#sk-container-id-2 label.sk-toggleable__label-arrow:before {content: \"▸\";float: left;margin-right: 0.25em;color: #696969;}#sk-container-id-2 label.sk-toggleable__label-arrow:hover:before {color: black;}#sk-container-id-2 div.sk-estimator:hover label.sk-toggleable__label-arrow:before {color: black;}#sk-container-id-2 div.sk-toggleable__content {max-height: 0;max-width: 0;overflow: hidden;text-align: left;background-color: #f0f8ff;}#sk-container-id-2 div.sk-toggleable__content pre {margin: 0.2em;color: black;border-radius: 0.25em;background-color: #f0f8ff;}#sk-container-id-2 input.sk-toggleable__control:checked~div.sk-toggleable__content {max-height: 200px;max-width: 100%;overflow: auto;}#sk-container-id-2 input.sk-toggleable__control:checked~label.sk-toggleable__label-arrow:before {content: \"▾\";}#sk-container-id-2 div.sk-estimator input.sk-toggleable__control:checked~label.sk-toggleable__label {background-color: #d4ebff;}#sk-container-id-2 div.sk-label input.sk-toggleable__control:checked~label.sk-toggleable__label {background-color: #d4ebff;}#sk-container-id-2 input.sk-hidden--visually {border: 0;clip: rect(1px 1px 1px 1px);clip: rect(1px, 1px, 1px, 1px);height: 1px;margin: -1px;overflow: hidden;padding: 0;position: absolute;width: 1px;}#sk-container-id-2 div.sk-estimator {font-family: monospace;background-color: #f0f8ff;border: 1px dotted black;border-radius: 0.25em;box-sizing: border-box;margin-bottom: 0.5em;}#sk-container-id-2 div.sk-estimator:hover {background-color: #d4ebff;}#sk-container-id-2 div.sk-parallel-item::after {content: \"\";width: 100%;border-bottom: 1px solid gray;flex-grow: 1;}#sk-container-id-2 div.sk-label:hover label.sk-toggleable__label {background-color: #d4ebff;}#sk-container-id-2 div.sk-serial::before {content: \"\";position: absolute;border-left: 1px solid gray;box-sizing: border-box;top: 0;bottom: 0;left: 50%;z-index: 0;}#sk-container-id-2 div.sk-serial {display: flex;flex-direction: column;align-items: center;background-color: white;padding-right: 0.2em;padding-left: 0.2em;position: relative;}#sk-container-id-2 div.sk-item {position: relative;z-index: 1;}#sk-container-id-2 div.sk-parallel {display: flex;align-items: stretch;justify-content: center;background-color: white;position: relative;}#sk-container-id-2 div.sk-item::before, #sk-container-id-2 div.sk-parallel-item::before {content: \"\";position: absolute;border-left: 1px solid gray;box-sizing: border-box;top: 0;bottom: 0;left: 50%;z-index: -1;}#sk-container-id-2 div.sk-parallel-item {display: flex;flex-direction: column;z-index: 1;position: relative;background-color: white;}#sk-container-id-2 div.sk-parallel-item:first-child::after {align-self: flex-end;width: 50%;}#sk-container-id-2 div.sk-parallel-item:last-child::after {align-self: flex-start;width: 50%;}#sk-container-id-2 div.sk-parallel-item:only-child::after {width: 0;}#sk-container-id-2 div.sk-dashed-wrapped {border: 1px dashed gray;margin: 0 0.4em 0.5em 0.4em;box-sizing: border-box;padding-bottom: 0.4em;background-color: white;}#sk-container-id-2 div.sk-label label {font-family: monospace;font-weight: bold;display: inline-block;line-height: 1.2em;}#sk-container-id-2 div.sk-label-container {text-align: center;}#sk-container-id-2 div.sk-container {/* jupyter's `normalize.less` sets `[hidden] { display: none; }` but bootstrap.min.css set `[hidden] { display: none !important; }` so we also need the `!important` here to be able to override the default hidden behavior on the sphinx rendered scikit-learn.org. See: https://github.com/scikit-learn/scikit-learn/issues/21755 */display: inline-block !important;position: relative;}#sk-container-id-2 div.sk-text-repr-fallback {display: none;}</style><div id=\"sk-container-id-2\" class=\"sk-top-container\"><div class=\"sk-text-repr-fallback\"><pre>LinearRegression()</pre><b>In a Jupyter environment, please rerun this cell to show the HTML representation or trust the notebook. <br />On GitHub, the HTML representation is unable to render, please try loading this page with nbviewer.org.</b></div><div class=\"sk-container\" hidden><div class=\"sk-item\"><div class=\"sk-estimator sk-toggleable\"><input class=\"sk-toggleable__control sk-hidden--visually\" id=\"sk-estimator-id-2\" type=\"checkbox\" checked><label for=\"sk-estimator-id-2\" class=\"sk-toggleable__label sk-toggleable__label-arrow\">LinearRegression</label><div class=\"sk-toggleable__content\"><pre>LinearRegression()</pre></div></div></div></div></div>"
     },
     "execution_count": 38,
     "metadata": {},
     "output_type": "execute_result"
    }
   ],
   "source": [
    "model_lr = LinearRegression() #Create a linear regression model\n",
    "model_lr.fit(x_train,y_train) #Fit the data"
   ]
  },
  {
   "cell_type": "code",
   "execution_count": 39,
   "id": "cdb915ea",
   "metadata": {
    "ExecuteTime": {
     "end_time": "2023-07-18T23:19:20.141631Z",
     "start_time": "2023-07-18T23:19:19.502943Z"
    }
   },
   "outputs": [
    {
     "name": "stdout",
     "output_type": "stream",
     "text": [
      "0.48965868146788566\n"
     ]
    }
   ],
   "source": [
    "y_pred =  model_lr.predict(x_test)\n",
    "MAPE_LR = mean_absolute_percentage_error(y_test, y_pred)\n",
    "print(MAPE_LR)"
   ]
  },
  {
   "cell_type": "code",
   "execution_count": 31,
   "id": "095f7faf",
   "metadata": {
    "ExecuteTime": {
     "end_time": "2023-07-18T22:26:28.260816Z",
     "start_time": "2023-07-18T22:26:28.203445Z"
    }
   },
   "outputs": [
    {
     "data": {
      "text/plain": "array([4505.956])"
     },
     "execution_count": 31,
     "metadata": {},
     "output_type": "execute_result"
    }
   ],
   "source": [
    "rf_regressor.predict([[1.24,4,1,2,62.2,58,202.5]])"
   ]
  },
  {
   "cell_type": "code",
   "execution_count": 47,
   "id": "ed70a2e1",
   "metadata": {
    "ExecuteTime": {
     "end_time": "2023-07-19T00:02:33.231493Z",
     "start_time": "2023-07-19T00:02:33.224516Z"
    }
   },
   "outputs": [],
   "source": [
    "import pickle\n",
    "import gzip\n",
    "    "
   ]
  },
  {
   "cell_type": "code",
   "execution_count": 34,
   "id": "420c4f4d",
   "metadata": {
    "ExecuteTime": {
     "end_time": "2023-07-18T22:26:33.344271Z",
     "start_time": "2023-07-18T22:26:31.787936Z"
    }
   },
   "outputs": [],
   "source": [
    "with open('model.pkl', 'wb') as f:\n",
    "    pickle.dump(rf_regressor, f)"
   ]
  },
  {
   "cell_type": "code",
   "execution_count": 40,
   "id": "13f194b0",
   "metadata": {
    "ExecuteTime": {
     "end_time": "2023-07-18T23:19:40.243091Z",
     "start_time": "2023-07-18T23:19:40.223116Z"
    }
   },
   "outputs": [],
   "source": [
    "with open('model_lr.pkl', 'wb') as f:\n",
    "    pickle.dump(model_lr, f)"
   ]
  },
  {
   "cell_type": "code",
   "execution_count": 45,
   "outputs": [],
   "source": [
    "with open('model_rf_light.pkl', 'wb') as f:\n",
    "    pickle.dump(rf_regressor2, f)"
   ],
   "metadata": {
    "collapsed": false,
    "ExecuteTime": {
     "end_time": "2023-07-18T23:49:00.554833Z",
     "start_time": "2023-07-18T23:49:00.493307Z"
    }
   }
  },
  {
   "cell_type": "code",
   "execution_count": 48,
   "outputs": [],
   "source": [
    "with gzip.open('model_rf_light.pkl.gz', 'wb') as f:\n",
    "    pickle.dump(rf_regressor2, f)"
   ],
   "metadata": {
    "collapsed": false,
    "ExecuteTime": {
     "end_time": "2023-07-19T00:02:48.992423Z",
     "start_time": "2023-07-19T00:02:35.106490Z"
    }
   }
  },
  {
   "cell_type": "code",
   "execution_count": null,
   "outputs": [],
   "source": [],
   "metadata": {
    "collapsed": false
   }
  }
 ],
 "metadata": {
  "kernelspec": {
   "display_name": "Python 3 (ipykernel)",
   "language": "python",
   "name": "python3"
  },
  "language_info": {
   "codemirror_mode": {
    "name": "ipython",
    "version": 3
   },
   "file_extension": ".py",
   "mimetype": "text/x-python",
   "name": "python",
   "nbconvert_exporter": "python",
   "pygments_lexer": "ipython3",
   "version": "3.10.9"
  }
 },
 "nbformat": 4,
 "nbformat_minor": 5
}
